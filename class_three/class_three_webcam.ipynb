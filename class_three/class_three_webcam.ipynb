{
 "cells": [
  {
   "cell_type": "code",
   "execution_count": 7,
   "metadata": {},
   "outputs": [],
   "source": [
    "from io import BytesIO\n",
    "from IPython.display import clear_output, Image, display\n",
    "from PIL import Image as Img\n",
    "from glob import glob\n",
    "import cv2\n",
    "import numpy as np"
   ]
  },
  {
   "cell_type": "code",
   "execution_count": 8,
   "metadata": {},
   "outputs": [],
   "source": [
    "def set_img(img):\n",
    "    img = cv2.cvtColor(img, cv2.COLOR_BGR2RGB)\n",
    "    img = cv2.resize(img, (400,300))\n",
    "    return img\n",
    "\n",
    "def show_video(frame):\n",
    "    img = Img.fromarray(frame, \"RGB\")\n",
    "    buffer = BytesIO()\n",
    "    img.save(buffer, format=\"JPEG\")\n",
    "    display(Image(data=buffer.getvalue()))\n",
    "    clear_output(wait=True)\n",
    "\n",
    "def draw_boxes(img, boxes, color=(0, 255, 0)):\n",
    "    for box in boxes:\n",
    "        cv2.rectangle(img, (box[0], box[1]), (box[2], box[3]), color, 2)\n",
    "    return img"
   ]
  },
  {
   "cell_type": "code",
   "execution_count": 3,
   "metadata": {},
   "outputs": [
    {
     "name": "stdout",
     "output_type": "stream",
     "text": [
      "Break\n"
     ]
    }
   ],
   "source": [
    "# Open webcam\n",
    "webcam = cv2.VideoCapture(0)\n",
    "\n",
    "try:\n",
    "    while(True):\n",
    "        video_ok, frame = webcam.read()\n",
    "\n",
    "        if webcam:\n",
    "            frame = set_img(frame)\n",
    "            show_video(frame)\n",
    "\n",
    "except KeyboardInterrupt:\n",
    "    webcam.release()\n",
    "    print(\"Break\")"
   ]
  },
  {
   "cell_type": "code",
   "execution_count": 11,
   "metadata": {},
   "outputs": [
    {
     "name": "stdout",
     "output_type": "stream",
     "text": [
      "Break\n"
     ]
    }
   ],
   "source": [
    "# Coletando imagens para treinamento\n",
    "webcam = cv2.VideoCapture(0)\n",
    "class_face = cv2.CascadeClassifier('classificadores/haarcascade_frontalface_default.xml')\n",
    "count = 0\n",
    "webcam_name = 'greg'\n",
    "\n",
    "try:\n",
    "    while(True):\n",
    "        video_ok, frame = webcam.read()\n",
    "\n",
    "        if video_ok:\n",
    "            frame = set_img(frame)\n",
    "            frame_gray = cv2.cvtColor(frame, cv2.COLOR_RGB2GRAY)\n",
    "            faces = class_face.detectMultiScale(frame_gray, 1.3, 5)\n",
    "            if len(faces) > 0:\n",
    "                count += 1\n",
    "                if count <= 100:\n",
    "                    for (x,y,w,h) in faces:\n",
    "                        roi = frame_gray[y:y+h, x:x+w]\n",
    "                        cv2.resize(roi, (200, 200), interpolation=cv2.INTER_LANCZOS4)\n",
    "                        cv2.imwrite(f\"imagens/{webcam_name}/\" + str(count) + \".png\", roi)\n",
    "                    cv2.putText(frame, \"Coletado \" + str(count) + \" faces\", (20,20), cv2.FONT_HERSHEY_SIMPLEX, 0.5, (255,255,0), 2)\n",
    "                else:\n",
    "                    cv2.putText(frame, \"ConcluIdo\", (20,20), cv2.FONT_HERSHEY_SIMPLEX, 0.5, (255,255,0), 2)\n",
    "\n",
    "            show_video(frame)\n",
    "\n",
    "except KeyboardInterrupt:\n",
    "    webcam.release()\n",
    "    print(\"Break\")"
   ]
  },
  {
   "cell_type": "code",
   "execution_count": 27,
   "metadata": {},
   "outputs": [],
   "source": [
    "# Listando imagens coletadas\n",
    "faces_train = f\"imagens/{webcam_name}/\"\n",
    "list_faces = [img for img in glob(faces_train + \"*.png\")]"
   ]
  },
  {
   "cell_type": "code",
   "execution_count": 31,
   "metadata": {},
   "outputs": [],
   "source": [
    "### Exibir imagens coletadas em grade\n",
    "import matplotlib.pyplot as plt\n",
    "\n",
    "plt.figure(figsize=(20, 10))\n",
    "for e, img in enumerate(list_faces):\n",
    "    plt.subplot(1, 3, e + 1)\n",
    "    plt.title(f\"Img {img}\")\n",
    "    imagem = cv2.imread(img)\n",
    "    plt.imshow(imagem)\n",
    "\n",
    "plt.show()"
   ]
  },
  {
   "cell_type": "code",
   "execution_count": 14,
   "metadata": {},
   "outputs": [],
   "source": [
    "# Treinando o modelo\n",
    "data_train, subjects = [], []\n",
    "\n",
    "for img in list_faces:\n",
    "    imagem = cv2.imread(img, cv2.IMREAD_GRAYSCALE)\n",
    "    data_train.append(imagem)\n",
    "    subjects.append(0)\n",
    "\n",
    "subjects = np.asarray(subjects, dtype=np.int32)\n",
    "model_lbph = cv2.face.LBPHFaceRecognizer_create()\n",
    "model_lbph.train(data_train, subjects)"
   ]
  },
  {
   "cell_type": "code",
   "execution_count": 15,
   "metadata": {},
   "outputs": [
    {
     "name": "stdout",
     "output_type": "stream",
     "text": [
      "Break\n"
     ]
    }
   ],
   "source": [
    "# Reconhecendo faces\n",
    "webcam = cv2.VideoCapture(0)\n",
    "class_face = cv2.CascadeClassifier('classificadores/haarcascade_frontalface_default.xml')\n",
    "count = 0\n",
    "\n",
    "try:\n",
    "    while(True):\n",
    "        video_ok, frame = webcam.read()\n",
    "\n",
    "        if video_ok:\n",
    "            frame = set_img(frame)\n",
    "            frame_gray = cv2.cvtColor(frame, cv2.COLOR_RGB2GRAY)\n",
    "            faces = class_face.detectMultiScale(frame_gray, 1.3, 5)\n",
    "\n",
    "            if len(faces) > 0:\n",
    "                for (x,y,w,h) in faces:\n",
    "                    roi = frame_gray[y:y+h, x:x+w]\n",
    "                    roi = cv2.resize(roi, (200, 200), interpolation=cv2.INTER_LANCZOS4)\n",
    "                    predict = model_lbph.predict(roi)\n",
    "                    cv2.putText(frame, \"Similaridade \" + str(predict[1]), (x,y), cv2.FONT_HERSHEY_SIMPLEX, 0.5, (255,255,0), 2)\n",
    "                    draw_boxes(frame, [(x,y,x+w,y+h)], (255,0,0))\n",
    "            show_video(frame)\n",
    "\n",
    "except KeyboardInterrupt:\n",
    "    webcam.release()\n",
    "    print(\"Break\")"
   ]
  }
 ],
 "metadata": {
  "kernelspec": {
   "display_name": ".venv",
   "language": "python",
   "name": "python3"
  },
  "language_info": {
   "codemirror_mode": {
    "name": "ipython",
    "version": 3
   },
   "file_extension": ".py",
   "mimetype": "text/x-python",
   "name": "python",
   "nbconvert_exporter": "python",
   "pygments_lexer": "ipython3",
   "version": "3.12.0"
  }
 },
 "nbformat": 4,
 "nbformat_minor": 2
}
