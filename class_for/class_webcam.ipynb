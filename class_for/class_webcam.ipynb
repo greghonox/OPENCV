{
 "cells": [
  {
   "cell_type": "code",
   "execution_count": 59,
   "metadata": {},
   "outputs": [],
   "source": [
    "from io import BytesIO\n",
    "from IPython.display import clear_output, Image, display\n",
    "from PIL import Image as Img\n",
    "import cv2\n",
    "import dlib\n",
    "import numpy as np\n",
    "from scipy.spatial import distance as dist"
   ]
  },
  {
   "cell_type": "code",
   "execution_count": 60,
   "metadata": {},
   "outputs": [],
   "source": [
    "class_dlib_68_points = \"classificadores/shape_predictor_68_face_landmarks.dat\"\n",
    "class_lib = dlib.shape_predictor(class_dlib_68_points)\n",
    "detect_face = dlib.get_frontal_face_detector()"
   ]
  },
  {
   "cell_type": "code",
   "execution_count": 61,
   "metadata": {},
   "outputs": [],
   "source": [
    "def set_img(img):\n",
    "    imagem = cv2.cvtColor(img, cv2.COLOR_BGR2RGB)\n",
    "    imagem = cv2.resize(img, (800,600))\n",
    "    return imagem\n",
    "\n",
    "def show_video(frame):\n",
    "    img = Img.fromarray(frame, \"RGB\")\n",
    "    buffer = BytesIO()\n",
    "    img.save(buffer, format=\"JPEG\")\n",
    "    display(Image(data=buffer.getvalue()))\n",
    "    clear_output(wait=True)\n",
    "\n",
    "def points_marcos_faces(img):\n",
    "    rectangles = detect_face(img, 1)\n",
    "\n",
    "    if len(rectangles) == 0:\n",
    "        return None\n",
    "\n",
    "    marcos = []\n",
    "    for rect in rectangles:\n",
    "        marcos.append(np.matrix([[p.x, p.y] for p in class_lib(img, rect).parts()]))\n",
    "\n",
    "    return marcos    \n",
    "\n",
    "def anothetion_marcos_faces(img, marcos_faces):\n",
    "    for marco in marcos_faces:\n",
    "        for idx, ponto in enumerate(marco):\n",
    "            center = (ponto[0, 0], ponto[0, 1])\n",
    "            cv2.circle(img, center, 3, color=(255, 255, 0), thickness=-1)\n",
    "    return img"
   ]
  },
  {
   "cell_type": "code",
   "execution_count": 45,
   "metadata": {},
   "outputs": [
    {
     "name": "stderr",
     "output_type": "stream",
     "text": [
      "[ WARN:0@1619.030] global cap_v4l.cpp:999 open VIDEOIO(V4L2:/dev/video0): can't open camera by index\n",
      "[ERROR:0@1619.031] global obsensor_uvc_stream_channel.cpp:158 getStreamChannelGroup Camera index out of range\n"
     ]
    },
    {
     "name": "stdout",
     "output_type": "stream",
     "text": [
      "Break\n"
     ]
    }
   ],
   "source": [
    "webcam = cv2.VideoCapture(0)\n",
    "\n",
    "try:\n",
    "    while(True):\n",
    "        video_ok, frame = webcam.read()\n",
    "\n",
    "        if video_ok:\n",
    "            frame = set_img(frame)\n",
    "            if points := points_marcos_faces(frame):                \n",
    "                frame = anothetion_marcos_faces(frame, points)\n",
    "            show_video(frame)\n",
    "\n",
    "except KeyboardInterrupt:\n",
    "    webcam.release()\n",
    "    print(\"Break\")"
   ]
  },
  {
   "cell_type": "code",
   "execution_count": 64,
   "metadata": {},
   "outputs": [],
   "source": [
    "FACE = list(range(17, 68))\n",
    "FACE_COMPLET = list(range(0, 68))\n",
    "LIPS = list(range(48, 61))\n",
    "EYEBROW_RIGHT = list(range(17, 22))\n",
    "EYEBROW_LEFT = list(range(22, 27))\n",
    "EYE_RIGHT = list(range(36,42))\n",
    "EYE_LEFT = list(range(42,48))\n",
    "NOSE = list(range(27,35))\n",
    "JAW = list(range(0,17))"
   ]
  },
  {
   "cell_type": "code",
   "execution_count": 65,
   "metadata": {},
   "outputs": [],
   "source": [
    "def aspect_reason_mouth(points_mouth):\n",
    "    a = dist.euclidean(points_mouth[3], points_mouth[9])\n",
    "    b = dist.euclidean(points_mouth[2], points_mouth[10])\n",
    "    c = dist.euclidean(points_mouth[4], points_mouth[8])\n",
    "    d = dist.euclidean(points_mouth[0], points_mouth[6])\n",
    "    return (a + b + c)/(3.0 * d)"
   ]
  },
  {
   "cell_type": "code",
   "execution_count": 66,
   "metadata": {},
   "outputs": [
    {
     "ename": "ValueError",
     "evalue": "Input vector should be 1-D.",
     "output_type": "error",
     "traceback": [
      "\u001b[0;31m---------------------------------------------------------------------------\u001b[0m",
      "\u001b[0;31mValueError\u001b[0m                                Traceback (most recent call last)",
      "Cell \u001b[0;32mIn[66], line 13\u001b[0m\n\u001b[1;32m     11\u001b[0m frame \u001b[38;5;241m=\u001b[39m anothetion_marcos_faces(frame, points)\n\u001b[1;32m     12\u001b[0m points \u001b[38;5;241m=\u001b[39m points[\u001b[38;5;241m0\u001b[39m]\n\u001b[0;32m---> 13\u001b[0m ar \u001b[38;5;241m=\u001b[39m \u001b[43maspect_reason_mouth\u001b[49m\u001b[43m(\u001b[49m\u001b[43mpoints\u001b[49m\u001b[43m[\u001b[49m\u001b[43mLIPS\u001b[49m\u001b[43m]\u001b[49m\u001b[43m)\u001b[49m\n\u001b[1;32m     14\u001b[0m ar \u001b[38;5;241m=\u001b[39m \u001b[38;5;28mround\u001b[39m(ar,\u001b[38;5;241m3\u001b[39m)\n\u001b[1;32m     15\u001b[0m coord \u001b[38;5;241m=\u001b[39m \u001b[38;5;28mtuple\u001b[39m(points[JAW][\u001b[38;5;241m0\u001b[39m]\u001b[38;5;241m.\u001b[39mA1\u001b[38;5;241m.\u001b[39mreshape(\u001b[38;5;241m1\u001b[39m, \u001b[38;5;241m-\u001b[39m\u001b[38;5;241m1\u001b[39m)[\u001b[38;5;241m0\u001b[39m])\n",
      "Cell \u001b[0;32mIn[65], line 2\u001b[0m, in \u001b[0;36maspect_reason_mouth\u001b[0;34m(points_mouth)\u001b[0m\n\u001b[1;32m      1\u001b[0m \u001b[38;5;28;01mdef\u001b[39;00m \u001b[38;5;21maspect_reason_mouth\u001b[39m(points_mouth):\n\u001b[0;32m----> 2\u001b[0m     a \u001b[38;5;241m=\u001b[39m \u001b[43mdist\u001b[49m\u001b[38;5;241;43m.\u001b[39;49m\u001b[43meuclidean\u001b[49m\u001b[43m(\u001b[49m\u001b[43mpoints_mouth\u001b[49m\u001b[43m[\u001b[49m\u001b[38;5;241;43m3\u001b[39;49m\u001b[43m]\u001b[49m\u001b[43m,\u001b[49m\u001b[43m \u001b[49m\u001b[43mpoints_mouth\u001b[49m\u001b[43m[\u001b[49m\u001b[38;5;241;43m9\u001b[39;49m\u001b[43m]\u001b[49m\u001b[43m)\u001b[49m\n\u001b[1;32m      3\u001b[0m     b \u001b[38;5;241m=\u001b[39m dist\u001b[38;5;241m.\u001b[39meuclidean(points_mouth[\u001b[38;5;241m2\u001b[39m], points_mouth[\u001b[38;5;241m10\u001b[39m])\n\u001b[1;32m      4\u001b[0m     c \u001b[38;5;241m=\u001b[39m dist\u001b[38;5;241m.\u001b[39meuclidean(points_mouth[\u001b[38;5;241m4\u001b[39m], points_mouth[\u001b[38;5;241m8\u001b[39m])\n",
      "File \u001b[0;32m~/Documentos/PROJETOS/ESTUDOS/OPENCV/.venv/lib/python3.12/site-packages/scipy/spatial/distance.py:520\u001b[0m, in \u001b[0;36meuclidean\u001b[0;34m(u, v, w)\u001b[0m\n\u001b[1;32m    484\u001b[0m \u001b[38;5;28;01mdef\u001b[39;00m \u001b[38;5;21meuclidean\u001b[39m(u, v, w\u001b[38;5;241m=\u001b[39m\u001b[38;5;28;01mNone\u001b[39;00m):\n\u001b[1;32m    485\u001b[0m \u001b[38;5;250m    \u001b[39m\u001b[38;5;124;03m\"\"\"\u001b[39;00m\n\u001b[1;32m    486\u001b[0m \u001b[38;5;124;03m    Computes the Euclidean distance between two 1-D arrays.\u001b[39;00m\n\u001b[1;32m    487\u001b[0m \n\u001b[0;32m   (...)\u001b[0m\n\u001b[1;32m    518\u001b[0m \n\u001b[1;32m    519\u001b[0m \u001b[38;5;124;03m    \"\"\"\u001b[39;00m\n\u001b[0;32m--> 520\u001b[0m     \u001b[38;5;28;01mreturn\u001b[39;00m \u001b[43mminkowski\u001b[49m\u001b[43m(\u001b[49m\u001b[43mu\u001b[49m\u001b[43m,\u001b[49m\u001b[43m \u001b[49m\u001b[43mv\u001b[49m\u001b[43m,\u001b[49m\u001b[43m \u001b[49m\u001b[43mp\u001b[49m\u001b[38;5;241;43m=\u001b[39;49m\u001b[38;5;241;43m2\u001b[39;49m\u001b[43m,\u001b[49m\u001b[43m \u001b[49m\u001b[43mw\u001b[49m\u001b[38;5;241;43m=\u001b[39;49m\u001b[43mw\u001b[49m\u001b[43m)\u001b[49m\n",
      "File \u001b[0;32m~/Documentos/PROJETOS/ESTUDOS/OPENCV/.venv/lib/python3.12/site-packages/scipy/spatial/distance.py:463\u001b[0m, in \u001b[0;36mminkowski\u001b[0;34m(u, v, p, w)\u001b[0m\n\u001b[1;32m    413\u001b[0m \u001b[38;5;28;01mdef\u001b[39;00m \u001b[38;5;21mminkowski\u001b[39m(u, v, p\u001b[38;5;241m=\u001b[39m\u001b[38;5;241m2\u001b[39m, w\u001b[38;5;241m=\u001b[39m\u001b[38;5;28;01mNone\u001b[39;00m):\n\u001b[1;32m    414\u001b[0m \u001b[38;5;250m    \u001b[39m\u001b[38;5;124;03m\"\"\"\u001b[39;00m\n\u001b[1;32m    415\u001b[0m \u001b[38;5;124;03m    Compute the Minkowski distance between two 1-D arrays.\u001b[39;00m\n\u001b[1;32m    416\u001b[0m \n\u001b[0;32m   (...)\u001b[0m\n\u001b[1;32m    461\u001b[0m \n\u001b[1;32m    462\u001b[0m \u001b[38;5;124;03m    \"\"\"\u001b[39;00m\n\u001b[0;32m--> 463\u001b[0m     u \u001b[38;5;241m=\u001b[39m \u001b[43m_validate_vector\u001b[49m\u001b[43m(\u001b[49m\u001b[43mu\u001b[49m\u001b[43m)\u001b[49m\n\u001b[1;32m    464\u001b[0m     v \u001b[38;5;241m=\u001b[39m _validate_vector(v)\n\u001b[1;32m    465\u001b[0m     \u001b[38;5;28;01mif\u001b[39;00m p \u001b[38;5;241m<\u001b[39m\u001b[38;5;241m=\u001b[39m \u001b[38;5;241m0\u001b[39m:\n",
      "File \u001b[0;32m~/Documentos/PROJETOS/ESTUDOS/OPENCV/.venv/lib/python3.12/site-packages/scipy/spatial/distance.py:302\u001b[0m, in \u001b[0;36m_validate_vector\u001b[0;34m(u, dtype)\u001b[0m\n\u001b[1;32m    300\u001b[0m \u001b[38;5;28;01mif\u001b[39;00m u\u001b[38;5;241m.\u001b[39mndim \u001b[38;5;241m==\u001b[39m \u001b[38;5;241m1\u001b[39m:\n\u001b[1;32m    301\u001b[0m     \u001b[38;5;28;01mreturn\u001b[39;00m u\n\u001b[0;32m--> 302\u001b[0m \u001b[38;5;28;01mraise\u001b[39;00m \u001b[38;5;167;01mValueError\u001b[39;00m(\u001b[38;5;124m\"\u001b[39m\u001b[38;5;124mInput vector should be 1-D.\u001b[39m\u001b[38;5;124m\"\u001b[39m)\n",
      "\u001b[0;31mValueError\u001b[0m: Input vector should be 1-D."
     ]
    }
   ],
   "source": [
    "webcam = cv2.VideoCapture(0)\n",
    "\n",
    "try:\n",
    "    while(True):\n",
    "        video_ok, frame = webcam.read()\n",
    "\n",
    "        if video_ok:\n",
    "            frame = set_img(frame)\n",
    "            points = points_marcos_faces(frame)\n",
    "            if points is not None:\n",
    "                frame = anothetion_marcos_faces(frame, points)\n",
    "                points = points[0]\n",
    "                ar = aspect_reason_mouth(points[LIPS])\n",
    "                ar = round(ar,3)\n",
    "                coord = tuple(points[JAW][0].A1.reshape(1, -1)[0])\n",
    "                coord = (coord[0], coord[1] + 20)\n",
    "                cv2.putText(frame, \"Aspecto Razao \" + str(ar), coord, cv2.FONT_HERSHEY_SIMPLEX, 0.5, (255,255,0), 2)\n",
    "\n",
    "            show_video(frame)\n",
    "\n",
    "except KeyboardInterrupt:\n",
    "    webcam.release()\n",
    "    print(\"Break\")"
   ]
  }
 ],
 "metadata": {
  "kernelspec": {
   "display_name": ".venv",
   "language": "python",
   "name": "python3"
  },
  "language_info": {
   "codemirror_mode": {
    "name": "ipython",
    "version": 3
   },
   "file_extension": ".py",
   "mimetype": "text/x-python",
   "name": "python",
   "nbconvert_exporter": "python",
   "pygments_lexer": "ipython3",
   "version": "3.12.0"
  }
 },
 "nbformat": 4,
 "nbformat_minor": 2
}
